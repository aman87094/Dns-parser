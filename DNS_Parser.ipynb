{
 "cells": [
  {
   "cell_type": "markdown",
   "metadata": {},
   "source": [
    "## Problem 3\n",
    "Authors: Aman Kumar (EE21B013) & Aayush Patel (EE21B003)\n",
    "\n",
    "The below function converts the binary string to ASCII format"
   ]
  },
  {
   "cell_type": "code",
   "execution_count": 1,
   "metadata": {},
   "outputs": [],
   "source": [
    "def binary_to_ascii(binary_string):\n",
    "    chunks = [binary_string[i:i+8] for i in range(0, len(binary_string), 8)]\n",
    "    ascii_string = ''.join(chr(int(chunk, 2)) for chunk in chunks)\n",
    "    return ascii_string\n"
   ]
  },
  {
   "cell_type": "markdown",
   "metadata": {},
   "source": [
    "The _read\\_domain\\_name_ function extracts the domain name (as s string) from the dns message"
   ]
  },
  {
   "cell_type": "code",
   "execution_count": 2,
   "metadata": {},
   "outputs": [],
   "source": [
    "def read_domain_name(packet,st):\n",
    "    domain =\"\"\n",
    "    while True:\n",
    "        len_level=int(packet[st:st+8],2)\n",
    "\n",
    "        if(len_level==0):\n",
    "            break\n",
    "        st=st+8\n",
    "        label_name=packet[st:st+len_level*8]\n",
    "        st=st+len_level*8\n",
    "        temp=binary_to_ascii(label_name)\n",
    "        domain+=temp\n",
    "        domain+='.'\n",
    "    st=st+8\n",
    "    domain=domain[:len(domain)-1]\n",
    "    return st,domain"
   ]
  },
  {
   "cell_type": "code",
   "execution_count": 3,
   "metadata": {},
   "outputs": [],
   "source": [
    "# def read_com_domain_name(packet,domain,offset):\n",
    "#     while True :\n",
    "#         len_level=int(packet[offset:offset+8],2)\n",
    "\n",
    "#         if(len_level==0):\n",
    "#             break\n",
    "#         if(packet[st]=='0' and packet[st+1]=='0'):\n",
    "#             st=st+8\n",
    "#             label_name=packet[st:st+len_level*8]\n",
    "#             st=st+len_level*8\n",
    "#             temp=binary_to_ascii(label_name)\n",
    "#             # print(temp)\n",
    "#             domain+=temp\n",
    "#             domain+='.'"
   ]
  },
  {
   "cell_type": "markdown",
   "metadata": {},
   "source": [
    "The function _parse\\_dns\\_packet_ parses the dns message to extract \n",
    "* domain name for query\n",
    "* domain name and IP Address for response "
   ]
  },
  {
   "cell_type": "code",
   "execution_count": 4,
   "metadata": {},
   "outputs": [],
   "source": [
    "## fucntion for parsing the dns message\n",
    "def parse_dns_packet(packet):\n",
    "    header = packet[:96]\n",
    "    # Extract fields from the DNS header\n",
    "    transaction_id = int(header[0:16],2)\n",
    "    # print('transaction_id',transaction_id)\n",
    "    question_count=int (header[32:48],2)\n",
    "    checker_flag=header[16] #check for query or response\n",
    "    answer_count=int(header[48:64],2)\n",
    "    if(question_count>1 or answer_count>1):\n",
    "        raise Exception\n",
    "    \n",
    "    # # Check if it's a query or response packet\n",
    "    if checker_flag == '0':  # Query packet\n",
    "        # Extract questions from the DNS packet\n",
    "        \n",
    "        next_ind,domain=read_domain_name(packet,96)\n",
    "        print('Packet Type : query')\n",
    "        print('domain name : ',domain)\n",
    "        next_ind+=32\n",
    "        \n",
    "    else :  # Response packet\n",
    "        \n",
    "        next_ind,domain=read_domain_name(packet,96)\n",
    "        if(question_count): \n",
    "            next_ind+=32\n",
    "            next_ind+=16\n",
    "        ans_type=int(packet[next_ind:next_ind+16])\n",
    "        next_ind+=16\n",
    "        ans_class=int(packet[next_ind:next_ind+16])\n",
    "        next_ind+=64\n",
    "        if(ans_class!=1 and ans_type!=1):\n",
    "            raise Exception\n",
    "        # print(ans_class,ans_type)\n",
    "        d=[]\n",
    "        d1=int(packet[next_ind:next_ind+8],2)\n",
    "        d.append(d1)\n",
    "        next_ind+=8\n",
    "        d2=int(packet[next_ind:next_ind+8],2)\n",
    "        d.append(d2)\n",
    "        next_ind+=8\n",
    "        d3=int(packet[next_ind:next_ind+8],2)\n",
    "        d.append(d3)\n",
    "        next_ind+=8\n",
    "        d4=int(packet[next_ind:next_ind+8],2)\n",
    "        d.append(d4)\n",
    "        ipv4=\"\"\n",
    "        for e in d:\n",
    "            e1=str(e)\n",
    "            ipv4+=e1\n",
    "            ipv4+='.'\n",
    "        ipv4=ipv4[:len(ipv4)-1]\n",
    "        print('packet Type : Response')\n",
    "        print('domain name : ',domain)\n",
    "        print('Host IP address : ',ipv4)"
   ]
  },
  {
   "cell_type": "markdown",
   "metadata": {},
   "source": [
    "#### Queries\n",
    "\n",
    "* Add any new query in the queries list and run the next shell"
   ]
  },
  {
   "cell_type": "code",
   "execution_count": 5,
   "metadata": {},
   "outputs": [],
   "source": [
    "queries = [\n",
    "    '4c76010000010000000000010c74696d65736f66696e6469610a696e64696174696d657303636f6d00000100010000290200000000000000',\n",
    "    '629f8180000100010000000103637365046969746d02616302696e0000010001c00c0001000100001f9600040a0608020000290200000000000000',\n",
    "    '00c88b57ec40ec2e98e9046b08004500004b527e40004011802f0a2a52f10a1800c2e36400350037875137920100000100000000000106636c69656e740764726f70626f7803636f6d00000100010000290200000000000000',\n",
    "    'ec2e98e9046b34e894fa3f5e08004500006b030400003e11f7c4c0a80001c0a80068003581c300577fa37baf818000010001000000010f7a2d7034322d696e7374616772616d046331307209696e7374616772616d03636f6d0000010001c00c000100010000000c00049df017ae0000290200000000000000',\n",
    "    'a0208180000100010000000105666f6e74730a676f6f676c656170697303636f6d0000010001c00c00010001000000ae00048efab64a0000290200000000000000',\n",
    "]"
   ]
  },
  {
   "cell_type": "markdown",
   "metadata": {},
   "source": [
    "#### Run the following cell to get the output for the queries in the queries list."
   ]
  },
  {
   "cell_type": "code",
   "execution_count": 6,
   "metadata": {},
   "outputs": [
    {
     "name": "stdout",
     "output_type": "stream",
     "text": [
      "\n",
      "Parsing Packet 1:\n",
      "Packet Type : query\n",
      "domain name :  timesofindia.indiatimes.com\n",
      "\n",
      "Parsing Packet 2:\n",
      "packet Type : Response\n",
      "domain name :  cse.iitm.ac.in\n",
      "Host IP address :  10.6.8.2\n",
      "\n",
      "Parsing Packet 3:\n",
      "Invalid Input\n",
      "\n",
      "Parsing Packet 4:\n",
      "Invalid Input\n",
      "\n",
      "Parsing Packet 5:\n",
      "packet Type : Response\n",
      "domain name :  fonts.googleapis.com\n",
      "Host IP address :  142.250.182.74\n"
     ]
    }
   ],
   "source": [
    "## first converting into binary representation\n",
    "for i, query in enumerate(queries, start=1):\n",
    "    print(f\"\\nParsing Packet {i}:\")\n",
    "    P_query=\"\"\n",
    "    cnt=0\n",
    "    for i in query:\n",
    "        no=int(i,16)\n",
    "        no=list(bin(no)[2:])\n",
    "        while(len(no)<4):\n",
    "            no.insert(0,'0')\n",
    "        temp=''\n",
    "        for i in no:\n",
    "            temp+=i\n",
    "        P_query+=temp\n",
    "    try:\n",
    "        parse_dns_packet(P_query)\n",
    "    except:\n",
    "        print(\"Invalid Input\")"
   ]
  }
 ],
 "metadata": {
  "kernelspec": {
   "display_name": "Python 3",
   "language": "python",
   "name": "python3"
  },
  "language_info": {
   "codemirror_mode": {
    "name": "ipython",
    "version": 3
   },
   "file_extension": ".py",
   "mimetype": "text/x-python",
   "name": "python",
   "nbconvert_exporter": "python",
   "pygments_lexer": "ipython3",
   "version": "3.11.6"
  }
 },
 "nbformat": 4,
 "nbformat_minor": 2
}
